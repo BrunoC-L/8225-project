{
 "cells": [
  {
   "cell_type": "markdown",
   "id": "vertical-ottawa",
   "metadata": {},
   "source": [
    "# Final Project for INF8225"
   ]
  },
  {
   "cell_type": "markdown",
   "id": "alpine-farming",
   "metadata": {},
   "source": [
    "## InfoGan"
   ]
  },
  {
   "cell_type": "markdown",
   "id": "premium-footwear",
   "metadata": {},
   "source": [
    "#### Bruno Curzi-Laliberté, Thomas Rochefort-Beaudoin, Antoine Martin & Lucas Aubrun"
   ]
  },
  {
   "cell_type": "code",
   "execution_count": 1,
   "id": "cleared-bidder",
   "metadata": {},
   "outputs": [],
   "source": [
    "# for Keras\n",
    "import tensorflow"
   ]
  },
  {
   "cell_type": "code",
   "execution_count": 2,
   "id": "impressive-texture",
   "metadata": {},
   "outputs": [],
   "source": [
    "# for splitting keras Dataset, scikit learn has an easy way: sklearn.model_selection.train_test_split(...)\n",
    "import sklearn.model_selection"
   ]
  },
  {
   "cell_type": "code",
   "execution_count": 3,
   "id": "appointed-configuration",
   "metadata": {},
   "outputs": [],
   "source": [
    "# For creating tensors easily, also includes random tensors with np.random\n",
    "import numpy as np"
   ]
  },
  {
   "cell_type": "code",
   "execution_count": 4,
   "id": "magnetic-state",
   "metadata": {},
   "outputs": [],
   "source": [
    "# For displaying graphs, MNIST images & GAN images\n",
    "import matplotlib.pyplot as plt"
   ]
  },
  {
   "cell_type": "code",
   "execution_count": 5,
   "id": "falling-budapest",
   "metadata": {},
   "outputs": [],
   "source": [
    "seed = 8225\n",
    "batch = 256"
   ]
  },
  {
   "cell_type": "code",
   "execution_count": 6,
   "id": "living-reliance",
   "metadata": {},
   "outputs": [],
   "source": [
    "# MNIST\n",
    "(kerasTrainX, kerasTrainY), (kerasTestX, kerasTestY) = tensorflow.keras.datasets.mnist.load_data(path=\"mnist.npz\")\n",
    "kerasTrainX, kerasValidX, kerasTrainY, kerasValidY = sklearn.model_selection.train_test_split(kerasTrainX, kerasTrainY, test_size=0.1, shuffle=True, random_state=seed)"
   ]
  },
  {
   "cell_type": "code",
   "execution_count": 7,
   "id": "generic-thomas",
   "metadata": {},
   "outputs": [],
   "source": [
    "kerasTrainX = kerasTrainX.reshape(54000, 28, 28, 1)\n",
    "kerasValidX = kerasValidX.reshape( 6000, 28, 28, 1)\n",
    "kerasTestX  = kerasTestX.reshape(10000, 28, 28, 1)"
   ]
  },
  {
   "cell_type": "code",
   "execution_count": 8,
   "id": "governmental-taste",
   "metadata": {},
   "outputs": [],
   "source": [
    "# https://github.com/tensorflow/tensorflow/issues/46038\n",
    "config = tensorflow.compat.v1.ConfigProto()\n",
    "config.gpu_options.per_process_gpu_memory_fraction = 0.4\n",
    "session = tensorflow.compat.v1.Session(config=config)"
   ]
  },
  {
   "cell_type": "code",
   "execution_count": 9,
   "id": "cultural-persian",
   "metadata": {},
   "outputs": [
    {
     "data": {
      "text/plain": [
       "[5189]"
      ]
     },
     "execution_count": 9,
     "metadata": {},
     "output_type": "execute_result"
    }
   ],
   "source": [
    "# https://stackoverflow.com/a/59568642/10945691\n",
    "import subprocess as sp\n",
    "import os\n",
    "\n",
    "def get_gpu_memory():\n",
    "    ACCEPTABLE_AVAILABLE_MEMORY = 1024\n",
    "    COMMAND = \"nvidia-smi --query-gpu=memory.free --format=csv\"\n",
    "    memory_free_info = sp.check_output(COMMAND.split()).decode('ascii').split('\\n')[1:-1]\n",
    "    memory_free_values = [int(x.split()[0]) for x in memory_free_info]\n",
    "    return memory_free_values\n",
    "\n",
    "# After building 1 model from Keras, this value will drop by 4-5GB, not sure why Keras allocates so much\n",
    "get_gpu_memory()"
   ]
  },
  {
   "cell_type": "code",
   "execution_count": 10,
   "id": "split-inquiry",
   "metadata": {},
   "outputs": [],
   "source": [
    "def Generator():\n",
    "    generator = tensorflow.keras.models.Sequential()\n",
    "    # foundation for 7x7 image, not 28x28\n",
    "    n_nodes = 128 * 7 * 7\n",
    "    generator.add(tensorflow.keras.layers.Dense(n_nodes, input_dim=10))\n",
    "    generator.add(tensorflow.keras.layers.LeakyReLU(alpha=0.2))\n",
    "    generator.add(tensorflow.keras.layers.Reshape((7, 7, 128)))\n",
    "    # upsample to 14x14\n",
    "    generator.add(tensorflow.keras.layers.Conv2DTranspose(128, (4,4), strides=(2,2), padding='same'))\n",
    "    generator.add(tensorflow.keras.layers.LeakyReLU(alpha=0.2))\n",
    "    # upsample to 28x28\n",
    "    generator.add(tensorflow.keras.layers.Conv2DTranspose(128, (4,4), strides=(2,2), padding='same'))\n",
    "    generator.add(tensorflow.keras.layers.LeakyReLU(alpha=0.2))\n",
    "    generator.add(tensorflow.keras.layers.Conv2D(1, (7,7), activation='sigmoid', padding='same'))\n",
    "    return generator"
   ]
  },
  {
   "cell_type": "code",
   "execution_count": 11,
   "id": "heard-anime",
   "metadata": {},
   "outputs": [],
   "source": [
    "def Discriminator():\n",
    "    discriminator = tensorflow.keras.models.Sequential()\n",
    "    discriminator.add(tensorflow.keras.layers.Conv2D(64, (3,3), strides=(2, 2), padding='same', input_shape=(28, 28, 1)))\n",
    "    discriminator.add(tensorflow.keras.layers.LeakyReLU(alpha=0.2))\n",
    "    discriminator.add(tensorflow.keras.layers.Dropout(0.4))\n",
    "    discriminator.add(tensorflow.keras.layers.Conv2D(64, (3,3), strides=(2, 2), padding='same'))\n",
    "    discriminator.add(tensorflow.keras.layers.LeakyReLU(alpha=0.2))\n",
    "    discriminator.add(tensorflow.keras.layers.Dropout(0.4))\n",
    "    discriminator.add(tensorflow.keras.layers.Flatten())\n",
    "    discriminator.add(tensorflow.keras.layers.Dense(1, activation='sigmoid'))\n",
    "    opt = tensorflow.keras.optimizers.Adam(lr=0.0002, beta_1=0.5) # 0.5 is interesting\n",
    "    discriminator.compile(loss='binary_crossentropy', optimizer=opt, metrics=['accuracy'])\n",
    "    return discriminator"
   ]
  },
  {
   "cell_type": "code",
   "execution_count": 12,
   "id": "detected-ghana",
   "metadata": {},
   "outputs": [],
   "source": [
    "def GAN(G, D):\n",
    "    D.trainable = False\n",
    "    gan = tensorflow.keras.models.Sequential()\n",
    "    gan.add(G)\n",
    "    gan.add(D)\n",
    "    opt = tensorflow.keras.optimizers.Adam(lr=0.0002, beta_1=0.5) # 0.5 is interesting\n",
    "    gan.compile(loss='binary_crossentropy', optimizer=opt)\n",
    "    return gan"
   ]
  },
  {
   "cell_type": "code",
   "execution_count": 13,
   "id": "forbidden-wound",
   "metadata": {},
   "outputs": [],
   "source": [
    "generator = Generator()"
   ]
  },
  {
   "cell_type": "code",
   "execution_count": 14,
   "id": "sporting-forty",
   "metadata": {},
   "outputs": [],
   "source": [
    "discriminator = Discriminator()"
   ]
  },
  {
   "cell_type": "code",
   "execution_count": 15,
   "id": "rough-loading",
   "metadata": {},
   "outputs": [
    {
     "data": {
      "text/plain": [
       "(256, 28, 28, 1)"
      ]
     },
     "execution_count": 15,
     "metadata": {},
     "output_type": "execute_result"
    }
   ],
   "source": [
    "generator.predict(np.zeros((batch, 10))).shape"
   ]
  },
  {
   "cell_type": "code",
   "execution_count": 16,
   "id": "beginning-barrel",
   "metadata": {},
   "outputs": [
    {
     "data": {
      "text/plain": [
       "(256, 1)"
      ]
     },
     "execution_count": 16,
     "metadata": {},
     "output_type": "execute_result"
    }
   ],
   "source": [
    "discriminator.predict(np.zeros((batch, 28, 28, 1))).shape"
   ]
  },
  {
   "cell_type": "code",
   "execution_count": 17,
   "id": "multiple-instrumentation",
   "metadata": {},
   "outputs": [
    {
     "data": {
      "text/plain": [
       "(256, 1)"
      ]
     },
     "execution_count": 17,
     "metadata": {},
     "output_type": "execute_result"
    }
   ],
   "source": [
    "discriminator.predict(generator.predict(np.zeros((batch, 10)))).shape"
   ]
  },
  {
   "cell_type": "code",
   "execution_count": 18,
   "id": "sharp-experience",
   "metadata": {},
   "outputs": [],
   "source": [
    "gan = GAN(generator, discriminator)"
   ]
  },
  {
   "cell_type": "code",
   "execution_count": 19,
   "id": "welcome-jordan",
   "metadata": {},
   "outputs": [
    {
     "data": {
      "text/plain": [
       "(256, 1)"
      ]
     },
     "execution_count": 19,
     "metadata": {},
     "output_type": "execute_result"
    }
   ],
   "source": [
    "gan.predict(np.zeros((batch, 10))).shape"
   ]
  },
  {
   "cell_type": "code",
   "execution_count": 20,
   "id": "illegal-frequency",
   "metadata": {},
   "outputs": [
    {
     "name": "stdout",
     "output_type": "stream",
     "text": [
      "training discriminator\n",
      "1/1 [==============================] - 1s 536ms/step - loss: 0.6773 - accuracy: 0.6562\n",
      "1/1 [==============================] - 0s 278ms/step - loss: 8.5919 - accuracy: 0.4141\n",
      "1/1 [==============================] - 0s 9ms/step - loss: 0.6630 - accuracy: 0.7891\n",
      "1/1 [==============================] - 0s 8ms/step - loss: 5.2907 - accuracy: 0.5469\n",
      "1/1 [==============================] - 0s 8ms/step - loss: 0.6828 - accuracy: 0.6328\n",
      "1/1 [==============================] - 0s 10ms/step - loss: 2.6146 - accuracy: 0.7227\n",
      "1/1 [==============================] - 0s 8ms/step - loss: 0.6950 - accuracy: 0.5000\n",
      "1/1 [==============================] - 0s 10ms/step - loss: 1.7902 - accuracy: 0.8281\n",
      "1/1 [==============================] - 0s 9ms/step - loss: 0.7034 - accuracy: 0.3594\n",
      "1/1 [==============================] - 0s 10ms/step - loss: 1.2796 - accuracy: 0.8438\n",
      "1/1 [==============================] - 0s 10ms/step - loss: 0.7138 - accuracy: 0.2656\n",
      "1/1 [==============================] - 0s 10ms/step - loss: 0.9967 - accuracy: 0.8672\n",
      "1/1 [==============================] - 0s 9ms/step - loss: 0.7126 - accuracy: 0.2891\n",
      "1/1 [==============================] - 0s 10ms/step - loss: 0.6321 - accuracy: 0.9258\n",
      "1/1 [==============================] - 0s 9ms/step - loss: 0.7193 - accuracy: 0.2617\n",
      "1/1 [==============================] - 0s 9ms/step - loss: 0.6022 - accuracy: 0.9180\n",
      "1/1 [==============================] - 0s 10ms/step - loss: 0.7249 - accuracy: 0.1875\n",
      "1/1 [==============================] - 0s 9ms/step - loss: 0.2397 - accuracy: 0.9648\n",
      "1/1 [==============================] - 0s 10ms/step - loss: 0.7189 - accuracy: 0.2383\n",
      "1/1 [==============================] - 0s 9ms/step - loss: 0.3422 - accuracy: 0.9531\n",
      "training generator\n",
      "8/8 [==============================] - 1s 13ms/step - loss: 0.7270\n",
      "training discriminator\n",
      "1/1 [==============================] - 0s 10ms/step - loss: 0.7178 - accuracy: 0.2578\n",
      "1/1 [==============================] - 0s 9ms/step - loss: 0.1890 - accuracy: 0.9531\n",
      "1/1 [==============================] - 0s 8ms/step - loss: 0.7208 - accuracy: 0.2227\n",
      "1/1 [==============================] - 0s 9ms/step - loss: 0.3904 - accuracy: 0.9531\n",
      "1/1 [==============================] - 0s 9ms/step - loss: 0.7220 - accuracy: 0.1953\n",
      "1/1 [==============================] - 0s 10ms/step - loss: 0.0290 - accuracy: 0.9844\n",
      "1/1 [==============================] - 0s 9ms/step - loss: 0.7162 - accuracy: 0.2656\n",
      "1/1 [==============================] - 0s 8ms/step - loss: 0.0688 - accuracy: 0.9805\n",
      "1/1 [==============================] - 0s 9ms/step - loss: 0.7190 - accuracy: 0.2422\n",
      "1/1 [==============================] - 0s 10ms/step - loss: 0.1673 - accuracy: 0.9844\n",
      "1/1 [==============================] - 0s 9ms/step - loss: 0.7112 - accuracy: 0.3594\n",
      "1/1 [==============================] - 0s 9ms/step - loss: 0.0447 - accuracy: 0.9844\n",
      "1/1 [==============================] - 0s 9ms/step - loss: 0.7115 - accuracy: 0.3125\n",
      "1/1 [==============================] - 0s 9ms/step - loss: 0.0352 - accuracy: 0.9922\n",
      "1/1 [==============================] - 0s 8ms/step - loss: 0.7087 - accuracy: 0.3281\n",
      "1/1 [==============================] - 0s 9ms/step - loss: 0.1834 - accuracy: 0.9727\n",
      "1/1 [==============================] - 0s 9ms/step - loss: 0.7077 - accuracy: 0.3633\n",
      "1/1 [==============================] - 0s 9ms/step - loss: 0.2888 - accuracy: 0.9531\n",
      "1/1 [==============================] - 0s 8ms/step - loss: 0.7086 - accuracy: 0.3477\n",
      "1/1 [==============================] - 0s 9ms/step - loss: 0.0100 - accuracy: 0.9922\n",
      "training generator\n",
      "8/8 [==============================] - 0s 13ms/step - loss: 0.7009\n",
      "training discriminator\n",
      "1/1 [==============================] - 0s 9ms/step - loss: 0.6774 - accuracy: 0.7227\n",
      "1/1 [==============================] - 0s 10ms/step - loss: 0.0457 - accuracy: 0.9883\n",
      "1/1 [==============================] - 0s 8ms/step - loss: 0.6766 - accuracy: 0.7461\n",
      "1/1 [==============================] - 0s 9ms/step - loss: 0.0019 - accuracy: 1.0000\n",
      "1/1 [==============================] - 0s 9ms/step - loss: 0.6693 - accuracy: 0.8203\n",
      "1/1 [==============================] - 0s 9ms/step - loss: 0.0258 - accuracy: 0.9961\n",
      "1/1 [==============================] - 0s 8ms/step - loss: 0.6686 - accuracy: 0.8438\n",
      "1/1 [==============================] - 0s 9ms/step - loss: 0.0258 - accuracy: 0.9961\n",
      "1/1 [==============================] - 0s 9ms/step - loss: 0.6687 - accuracy: 0.7891\n",
      "1/1 [==============================] - 0s 8ms/step - loss: 0.0740 - accuracy: 0.9805\n",
      "1/1 [==============================] - 0s 9ms/step - loss: 0.6647 - accuracy: 0.8359\n",
      "1/1 [==============================] - 0s 10ms/step - loss: 0.1014 - accuracy: 0.9844\n",
      "1/1 [==============================] - 0s 8ms/step - loss: 0.6632 - accuracy: 0.8672\n",
      "1/1 [==============================] - 0s 10ms/step - loss: 0.1002 - accuracy: 0.9844\n",
      "1/1 [==============================] - 0s 9ms/step - loss: 0.6643 - accuracy: 0.8633\n",
      "1/1 [==============================] - 0s 10ms/step - loss: 0.1088 - accuracy: 0.9805\n",
      "1/1 [==============================] - 0s 9ms/step - loss: 0.6622 - accuracy: 0.8906\n",
      "1/1 [==============================] - 0s 9ms/step - loss: 0.0295 - accuracy: 0.9883\n",
      "1/1 [==============================] - 0s 10ms/step - loss: 0.6599 - accuracy: 0.9141\n",
      "1/1 [==============================] - 0s 9ms/step - loss: 0.0193 - accuracy: 0.9961\n",
      "training generator\n",
      "8/8 [==============================] - 0s 12ms/step - loss: 0.6351\n",
      "training discriminator\n",
      "1/1 [==============================] - 0s 8ms/step - loss: 0.6159 - accuracy: 1.0000\n",
      "1/1 [==============================] - 0s 9ms/step - loss: 0.0322 - accuracy: 0.9922\n",
      "1/1 [==============================] - 0s 8ms/step - loss: 0.6116 - accuracy: 1.0000\n",
      "1/1 [==============================] - 0s 10ms/step - loss: 2.9433e-04 - accuracy: 1.0000\n",
      "1/1 [==============================] - 0s 9ms/step - loss: 0.6113 - accuracy: 1.0000\n",
      "1/1 [==============================] - 0s 10ms/step - loss: 0.0714 - accuracy: 0.9844\n",
      "1/1 [==============================] - 0s 9ms/step - loss: 0.6081 - accuracy: 1.0000\n",
      "1/1 [==============================] - 0s 9ms/step - loss: 0.0054 - accuracy: 0.9961\n",
      "1/1 [==============================] - 0s 9ms/step - loss: 0.6078 - accuracy: 1.0000\n",
      "1/1 [==============================] - 0s 10ms/step - loss: 1.9749e-04 - accuracy: 1.0000\n",
      "1/1 [==============================] - 0s 9ms/step - loss: 0.6052 - accuracy: 1.0000\n",
      "1/1 [==============================] - 0s 9ms/step - loss: 0.0335 - accuracy: 0.9922\n",
      "1/1 [==============================] - 0s 9ms/step - loss: 0.6045 - accuracy: 1.0000\n",
      "1/1 [==============================] - 0s 10ms/step - loss: 0.0722 - accuracy: 0.9844\n",
      "1/1 [==============================] - 0s 9ms/step - loss: 0.5993 - accuracy: 1.0000\n",
      "1/1 [==============================] - 0s 9ms/step - loss: 0.0760 - accuracy: 0.9922\n",
      "1/1 [==============================] - 0s 11ms/step - loss: 0.5993 - accuracy: 1.0000\n",
      "1/1 [==============================] - 0s 9ms/step - loss: 0.0241 - accuracy: 0.9961\n",
      "1/1 [==============================] - 0s 9ms/step - loss: 0.5944 - accuracy: 1.0000\n",
      "1/1 [==============================] - 0s 11ms/step - loss: 0.0084 - accuracy: 0.9961\n",
      "training generator\n",
      "8/8 [==============================] - 0s 15ms/step - loss: 0.5825\n",
      "training discriminator\n",
      "1/1 [==============================] - 0s 9ms/step - loss: 0.5709 - accuracy: 1.0000\n",
      "1/1 [==============================] - 0s 10ms/step - loss: 0.0655 - accuracy: 0.9922\n",
      "1/1 [==============================] - 0s 9ms/step - loss: 0.5697 - accuracy: 1.0000\n",
      "1/1 [==============================] - 0s 9ms/step - loss: 1.4259e-04 - accuracy: 1.0000\n",
      "1/1 [==============================] - 0s 10ms/step - loss: 0.5665 - accuracy: 1.0000\n",
      "1/1 [==============================] - 0s 9ms/step - loss: 0.0217 - accuracy: 0.9922\n",
      "1/1 [==============================] - 0s 9ms/step - loss: 0.5638 - accuracy: 1.0000\n",
      "1/1 [==============================] - 0s 10ms/step - loss: 1.3099e-04 - accuracy: 1.0000\n",
      "1/1 [==============================] - 0s 9ms/step - loss: 0.5606 - accuracy: 1.0000\n",
      "1/1 [==============================] - 0s 11ms/step - loss: 0.0783 - accuracy: 0.9883\n"
     ]
    },
    {
     "name": "stdout",
     "output_type": "stream",
     "text": [
      "1/1 [==============================] - 0s 9ms/step - loss: 0.5552 - accuracy: 1.0000\n",
      "1/1 [==============================] - 0s 11ms/step - loss: 0.0094 - accuracy: 0.9961\n",
      "1/1 [==============================] - 0s 9ms/step - loss: 0.5536 - accuracy: 1.0000\n",
      "1/1 [==============================] - 0s 10ms/step - loss: 0.0024 - accuracy: 1.0000\n",
      "1/1 [==============================] - 0s 9ms/step - loss: 0.5491 - accuracy: 1.0000\n",
      "1/1 [==============================] - 0s 9ms/step - loss: 4.5853e-04 - accuracy: 1.0000\n",
      "1/1 [==============================] - 0s 9ms/step - loss: 0.5470 - accuracy: 1.0000\n",
      "1/1 [==============================] - 0s 9ms/step - loss: 4.0471e-04 - accuracy: 1.0000\n",
      "1/1 [==============================] - 0s 9ms/step - loss: 0.5429 - accuracy: 1.0000\n",
      "1/1 [==============================] - 0s 10ms/step - loss: 0.0013 - accuracy: 1.0000\n",
      "training generator\n",
      "8/8 [==============================] - 0s 13ms/step - loss: 0.5295\n",
      "training discriminator\n",
      "1/1 [==============================] - 0s 9ms/step - loss: 0.5163 - accuracy: 1.0000\n",
      "1/1 [==============================] - 0s 8ms/step - loss: 2.0367e-04 - accuracy: 1.0000\n",
      "1/1 [==============================] - 0s 8ms/step - loss: 0.5133 - accuracy: 1.0000\n",
      "1/1 [==============================] - 0s 10ms/step - loss: 0.0218 - accuracy: 0.9922\n",
      "1/1 [==============================] - 0s 9ms/step - loss: 0.5100 - accuracy: 1.0000\n",
      "1/1 [==============================] - 0s 9ms/step - loss: 0.0108 - accuracy: 0.9961\n",
      "1/1 [==============================] - 0s 10ms/step - loss: 0.5030 - accuracy: 1.0000\n",
      "1/1 [==============================] - 0s 8ms/step - loss: 0.0207 - accuracy: 0.9922\n",
      "1/1 [==============================] - 0s 9ms/step - loss: 0.4991 - accuracy: 1.0000\n",
      "1/1 [==============================] - 0s 9ms/step - loss: 7.6878e-05 - accuracy: 1.0000\n",
      "1/1 [==============================] - 0s 9ms/step - loss: 0.4966 - accuracy: 1.0000\n",
      "1/1 [==============================] - 0s 9ms/step - loss: 0.0083 - accuracy: 0.9961\n",
      "1/1 [==============================] - 0s 9ms/step - loss: 0.4940 - accuracy: 1.0000\n",
      "1/1 [==============================] - 0s 10ms/step - loss: 0.0014 - accuracy: 1.0000\n",
      "1/1 [==============================] - 0s 9ms/step - loss: 0.4866 - accuracy: 1.0000\n",
      "1/1 [==============================] - 0s 9ms/step - loss: 0.0278 - accuracy: 0.9922\n",
      "1/1 [==============================] - 0s 9ms/step - loss: 0.4841 - accuracy: 1.0000\n",
      "1/1 [==============================] - 0s 9ms/step - loss: 4.2169e-05 - accuracy: 1.0000\n",
      "1/1 [==============================] - 0s 9ms/step - loss: 0.4800 - accuracy: 1.0000\n",
      "1/1 [==============================] - 0s 9ms/step - loss: 0.0103 - accuracy: 0.9961\n",
      "training generator\n",
      "8/8 [==============================] - 0s 12ms/step - loss: 0.4576\n",
      "training discriminator\n",
      "1/1 [==============================] - 0s 9ms/step - loss: 0.4253 - accuracy: 1.0000\n",
      "1/1 [==============================] - 0s 9ms/step - loss: 0.0025 - accuracy: 1.0000\n",
      "1/1 [==============================] - 0s 9ms/step - loss: 0.4218 - accuracy: 1.0000\n",
      "1/1 [==============================] - 0s 9ms/step - loss: 0.0100 - accuracy: 0.9922\n",
      "1/1 [==============================] - 0s 9ms/step - loss: 0.4146 - accuracy: 1.0000\n",
      "1/1 [==============================] - 0s 10ms/step - loss: 0.0349 - accuracy: 0.9961\n",
      "1/1 [==============================] - 0s 9ms/step - loss: 0.4085 - accuracy: 1.0000\n",
      "1/1 [==============================] - 0s 9ms/step - loss: 3.7307e-06 - accuracy: 1.0000\n",
      "1/1 [==============================] - 0s 9ms/step - loss: 0.4034 - accuracy: 1.0000\n",
      "1/1 [==============================] - 0s 10ms/step - loss: 1.4625e-04 - accuracy: 1.0000\n",
      "1/1 [==============================] - 0s 9ms/step - loss: 0.3958 - accuracy: 1.0000\n",
      "1/1 [==============================] - 0s 9ms/step - loss: 0.0098 - accuracy: 0.9961\n",
      "1/1 [==============================] - 0s 9ms/step - loss: 0.3946 - accuracy: 1.0000\n",
      "1/1 [==============================] - 0s 10ms/step - loss: 0.0289 - accuracy: 0.9922\n",
      "1/1 [==============================] - 0s 9ms/step - loss: 0.3850 - accuracy: 1.0000\n",
      "1/1 [==============================] - 0s 9ms/step - loss: 0.0323 - accuracy: 0.9961\n",
      "1/1 [==============================] - 0s 9ms/step - loss: 0.3784 - accuracy: 1.0000\n",
      "1/1 [==============================] - 0s 9ms/step - loss: 0.0307 - accuracy: 0.9922\n",
      "1/1 [==============================] - 0s 9ms/step - loss: 0.3702 - accuracy: 1.0000\n",
      "1/1 [==============================] - 0s 9ms/step - loss: 2.8326e-06 - accuracy: 1.0000\n",
      "training generator\n",
      "8/8 [==============================] - 0s 13ms/step - loss: 0.3419\n",
      "training discriminator\n",
      "1/1 [==============================] - 0s 10ms/step - loss: 0.3155 - accuracy: 1.0000\n",
      "1/1 [==============================] - 0s 9ms/step - loss: 2.2669e-08 - accuracy: 1.0000\n",
      "1/1 [==============================] - 0s 10ms/step - loss: 0.3095 - accuracy: 1.0000\n",
      "1/1 [==============================] - 0s 9ms/step - loss: 0.0153 - accuracy: 0.9961\n",
      "1/1 [==============================] - 0s 9ms/step - loss: 0.3051 - accuracy: 1.0000\n",
      "1/1 [==============================] - 0s 9ms/step - loss: 7.6880e-07 - accuracy: 1.0000\n",
      "1/1 [==============================] - 0s 9ms/step - loss: 0.2976 - accuracy: 1.0000\n",
      "1/1 [==============================] - 0s 9ms/step - loss: 7.5649e-04 - accuracy: 1.0000\n",
      "1/1 [==============================] - 0s 9ms/step - loss: 0.2895 - accuracy: 1.0000\n",
      "1/1 [==============================] - 0s 9ms/step - loss: 0.0018 - accuracy: 1.0000\n",
      "1/1 [==============================] - 0s 9ms/step - loss: 0.2832 - accuracy: 1.0000\n",
      "1/1 [==============================] - 0s 9ms/step - loss: 9.4518e-04 - accuracy: 1.0000\n",
      "1/1 [==============================] - 0s 9ms/step - loss: 0.2742 - accuracy: 1.0000\n",
      "1/1 [==============================] - 0s 9ms/step - loss: 0.0529 - accuracy: 0.9922\n",
      "1/1 [==============================] - 0s 9ms/step - loss: 0.2693 - accuracy: 1.0000\n",
      "1/1 [==============================] - 0s 10ms/step - loss: 0.0250 - accuracy: 0.9961\n",
      "1/1 [==============================] - 0s 9ms/step - loss: 0.2656 - accuracy: 1.0000\n",
      "1/1 [==============================] - 0s 11ms/step - loss: 0.0183 - accuracy: 0.9961\n",
      "1/1 [==============================] - 0s 9ms/step - loss: 0.2587 - accuracy: 1.0000\n",
      "1/1 [==============================] - 0s 9ms/step - loss: 0.0066 - accuracy: 0.9961\n",
      "training generator\n",
      "8/8 [==============================] - 0s 13ms/step - loss: 0.2427\n",
      "training discriminator\n",
      "1/1 [==============================] - 0s 9ms/step - loss: 0.2346 - accuracy: 1.0000\n",
      "1/1 [==============================] - 0s 9ms/step - loss: 2.0635e-05 - accuracy: 1.0000\n",
      "1/1 [==============================] - 0s 10ms/step - loss: 0.2295 - accuracy: 1.0000\n",
      "1/1 [==============================] - 0s 10ms/step - loss: 0.0895 - accuracy: 0.9922\n",
      "1/1 [==============================] - 0s 9ms/step - loss: 0.2237 - accuracy: 1.0000\n",
      "1/1 [==============================] - 0s 9ms/step - loss: 0.0081 - accuracy: 0.9961\n",
      "1/1 [==============================] - 0s 9ms/step - loss: 0.2183 - accuracy: 1.0000\n",
      "1/1 [==============================] - 0s 9ms/step - loss: 0.0223 - accuracy: 0.9961\n",
      "1/1 [==============================] - 0s 10ms/step - loss: 0.2124 - accuracy: 1.0000\n",
      "1/1 [==============================] - 0s 9ms/step - loss: 4.1805e-06 - accuracy: 1.0000\n",
      "1/1 [==============================] - 0s 8ms/step - loss: 0.2048 - accuracy: 1.0000\n",
      "1/1 [==============================] - 0s 9ms/step - loss: 3.0369e-04 - accuracy: 1.0000\n",
      "1/1 [==============================] - 0s 9ms/step - loss: 0.2036 - accuracy: 1.0000\n",
      "1/1 [==============================] - 0s 11ms/step - loss: 0.0215 - accuracy: 0.9922\n",
      "1/1 [==============================] - 0s 9ms/step - loss: 0.1944 - accuracy: 1.0000\n",
      "1/1 [==============================] - 0s 10ms/step - loss: 3.8614e-05 - accuracy: 1.0000\n",
      "1/1 [==============================] - 0s 9ms/step - loss: 0.1911 - accuracy: 1.0000\n",
      "1/1 [==============================] - 0s 9ms/step - loss: 0.0315 - accuracy: 0.9961\n",
      "1/1 [==============================] - 0s 9ms/step - loss: 0.1847 - accuracy: 1.0000\n",
      "1/1 [==============================] - 0s 10ms/step - loss: 4.4071e-05 - accuracy: 1.0000\n",
      "training generator\n"
     ]
    },
    {
     "name": "stdout",
     "output_type": "stream",
     "text": [
      "8/8 [==============================] - 0s 13ms/step - loss: 0.1786\n",
      "training discriminator\n",
      "1/1 [==============================] - 0s 9ms/step - loss: 0.1733 - accuracy: 1.0000\n",
      "1/1 [==============================] - 0s 9ms/step - loss: 9.9567e-05 - accuracy: 1.0000\n",
      "1/1 [==============================] - 0s 10ms/step - loss: 0.1700 - accuracy: 1.0000\n",
      "1/1 [==============================] - 0s 9ms/step - loss: 0.0443 - accuracy: 0.9961\n",
      "1/1 [==============================] - 0s 10ms/step - loss: 0.1648 - accuracy: 1.0000\n",
      "1/1 [==============================] - 0s 9ms/step - loss: 0.0193 - accuracy: 0.9961\n",
      "1/1 [==============================] - 0s 9ms/step - loss: 0.1611 - accuracy: 1.0000\n",
      "1/1 [==============================] - 0s 10ms/step - loss: 3.1004e-07 - accuracy: 1.0000\n",
      "1/1 [==============================] - 0s 9ms/step - loss: 0.1576 - accuracy: 1.0000\n",
      "1/1 [==============================] - 0s 10ms/step - loss: 0.0035 - accuracy: 0.9961\n",
      "1/1 [==============================] - 0s 8ms/step - loss: 0.1514 - accuracy: 1.0000\n",
      "1/1 [==============================] - 0s 10ms/step - loss: 5.6626e-06 - accuracy: 1.0000\n",
      "1/1 [==============================] - 0s 9ms/step - loss: 0.1494 - accuracy: 1.0000\n",
      "1/1 [==============================] - 0s 10ms/step - loss: 4.1742e-04 - accuracy: 1.0000\n",
      "1/1 [==============================] - 0s 8ms/step - loss: 0.1454 - accuracy: 1.0000\n",
      "1/1 [==============================] - 0s 10ms/step - loss: 1.1042e-08 - accuracy: 1.0000\n",
      "1/1 [==============================] - 0s 9ms/step - loss: 0.1393 - accuracy: 1.0000\n",
      "1/1 [==============================] - 0s 9ms/step - loss: 9.4604e-06 - accuracy: 1.0000\n",
      "1/1 [==============================] - 0s 10ms/step - loss: 0.1361 - accuracy: 1.0000\n",
      "1/1 [==============================] - 0s 9ms/step - loss: 1.7192e-04 - accuracy: 1.0000\n",
      "training generator\n",
      "8/8 [==============================] - 0s 12ms/step - loss: 0.1286\n"
     ]
    }
   ],
   "source": [
    "for gepoch in range(10):\n",
    "    print('training discriminator')\n",
    "    for wsads in range(10):\n",
    "        genx = generator.predict(np.random.random((batch, 10)))\n",
    "        datx = kerasTrainX[np.random.randint(0, 54000, batch)]\n",
    "        discriminator.fit(genx, np.zeros((batch, 1)), batch_size=batch)\n",
    "        discriminator.fit(datx,  np.ones((batch, 1)), batch_size=batch)\n",
    "    print('training generator')\n",
    "    gan.fit(np.random.random((batch, 10)), np.zeros((batch, 1)), verbose=True)"
   ]
  },
  {
   "cell_type": "code",
   "execution_count": 21,
   "id": "imperial-german",
   "metadata": {},
   "outputs": [
    {
     "data": {
      "image/png": "[encoded data removed]",
      "text/plain": [
       "<Figure size 432x288 with 25 Axes>"
      ]
     },
     "metadata": {
      "needs_background": "light"
     },
     "output_type": "display_data"
    }
   ],
   "source": [
    "X = generator.predict(np.random.random((25, 10)))\n",
    "# plot the generated samples\n",
    "for i in range(25):\n",
    "\t# define subplot\n",
    "\tplt.subplot(5, 5, 1 + i)\n",
    "\t# turn off axis labels\n",
    "\tplt.axis('off')\n",
    "\t# plot single image\n",
    "\tplt.imshow(X[i, :, :, 0], cmap='gray_r')\n",
    "# show the figure\n",
    "plt.show()"
   ]
  },
  {
   "cell_type": "code",
   "execution_count": null,
   "id": "weighted-spanking",
   "metadata": {},
   "outputs": [],
   "source": []
  }
 ],
 "metadata": {
  "kernelspec": {
   "display_name": "Python 3",
   "language": "python",
   "name": "python3"
  },
  "language_info": {
   "codemirror_mode": {
    "name": "ipython",
    "version": 3
   },
   "file_extension": ".py",
   "mimetype": "text/x-python",
   "name": "python",
   "nbconvert_exporter": "python",
   "pygments_lexer": "ipython3",
   "version": "3.8.5"
  }
 },
 "nbformat": 4,
 "nbformat_minor": 5
}
